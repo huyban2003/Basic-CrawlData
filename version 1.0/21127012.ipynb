{
 "cells": [
  {
   "cell_type": "markdown",
   "metadata": {},
   "source": [
    "## Collect and preprocess data"
   ]
  },
  {
   "cell_type": "markdown",
   "metadata": {},
   "source": [
    "Chỉ chạy dòng dưới khi cần tải thư viện\n",
    "\n",
    "(Ấn Ctrl + / để tắt comment)"
   ]
  },
  {
   "cell_type": "code",
   "execution_count": 4,
   "metadata": {},
   "outputs": [],
   "source": [
    "#!pip install time\n",
    "#!pip install requests\n",
    "#!pip install numpy\n",
    "#!pip install pandas\n",
    "#!pip install bs4"
   ]
  },
  {
   "cell_type": "markdown",
   "metadata": {},
   "source": [
    "# 1. Set-up environment"
   ]
  },
  {
   "cell_type": "code",
   "execution_count": 5,
   "metadata": {},
   "outputs": [],
   "source": [
    "#Necessary Packages\n",
    "import time\n",
    "import requests\n",
    "import numpy as np\n",
    "import pandas as pd \n",
    "from bs4 import BeautifulSoup"
   ]
  },
  {
   "cell_type": "markdown",
   "metadata": {},
   "source": [
    "# 2. Collect data using Web API"
   ]
  },
  {
   "cell_type": "markdown",
   "metadata": {},
   "source": [
    "In this section, your work is to practice to crawl data using Web API (http://api.worldbank.org/v2/country/all/indicator/SP.POP.TOTL). This is the data of World Bank which includes demographic data and other statistics related to Population, Employment, Health, GDP, Energy Consumption,... for all countries in the world from 1960 to 2022.\n",
    "\n",
    "From the following selected indicators:\n",
    "- `SP.POP.TOTL` - Total population\n",
    "- `SP.POP.TOTL.FE.IN` - Total female population\n",
    "- `SP.POP.TOTL.MA.IN` - Total male population\n",
    "- `SP.DYN.CBRT.IN` - Birth rate\n",
    "- `SP.DYN.CDRT.IN` - Death rate\n",
    "- `SP.DYN.LE00.MA.IN` - Average life expectancy of male\n",
    "- `SP.DYN.LE00.FE.IN` - Average life expectancy of female\n",
    "- `SE.PRM.ENRR` - Primary school enrollment rate\n",
    "- `SE.TER.ENRR` - High school enrollment rate\n",
    "- `SE.PRM.CMPT.ZS` - Primary completion rate\n",
    "- `SE.ADT.1524.LT.ZS` - Literacy rate of people ages 15-24\n",
    "\n",
    "You are required to collect data from 7 countries and save to dataframe `data_countries`:\n",
    "- `US` - United States of America\n",
    "- `IN` - India\n",
    "- `CN` - China\n",
    "- `JP` - Japan\n",
    "- `CA` - Canada\n",
    "- `GB` - Great Britain\n",
    "- `ZA` - South Africa\n",
    "\n",
    "You can expand your work on collecting data (such as collecting data from other countries and other indicators) by reading: https://datahelpdesk.worldbank.org/knowledgebase/articles/889392-api-documentation\n",
    "\n",
    "**Hints**:\n",
    "\n",
    "- Use the based URL: http://api.worldbank.org/v2/\n",
    "- In order to collect data for each indicator of each country, you can use the URL: \"http://api.worldbank.org/v2/countries/{country_code}/indicators/{indicator_code}\"\n",
    "    + `country_code` and `indicator_code` are provided above.\n",
    "    + For example, you can use the following URL to get the `Total population` of Japan: http://api.worldbank.org/v2/countries/jp/indicators/SP.POP.TOTL"
   ]
  },
  {
   "cell_type": "code",
   "execution_count": 6,
   "metadata": {},
   "outputs": [],
   "source": [
    "BASE_URL = 'http://api.worldbank.org/v2/'\n",
    "COUNTRIES = [\"US\", \"IN\", \"CN\", \"JP\", \"CA\", \"GB\", \"ZA\"]\n",
    "INDICATORS = ['SP.POP.TOTL', \n",
    "             'SP.POP.TOTL.FE.IN', \n",
    "             'SP.POP.TOTL.MA.IN',\n",
    "             'SP.DYN.CBRT.IN', \n",
    "             'SP.DYN.CDRT.IN',\n",
    "             'SP.DYN.LE00.MA.IN',\n",
    "             'SP.DYN.LE00.FE.IN',\n",
    "             'SE.PRM.ENRR',\n",
    "             'SE.TER.ENRR',\n",
    "             'SE.PRM.CMPT.ZS',\n",
    "             'SE.ADT.1524.LT.ZS']\n",
    "\n",
    "#TODO (option)\n",
    "# If you need other initializations\n",
    "#column name\n",
    "COLUMNS = ['Total Population', \n",
    "           'Female Population',\n",
    "           'Male Population',\n",
    "           'Birth Rate',\n",
    "           'Death Rate',\n",
    "           'Male life expectancy',\n",
    "           'Female life expectancy', \n",
    "           'School enrollment, primary',\n",
    "           'School enrollment, tertiary' ,\n",
    "           'Primary completion rate' ,\n",
    "           'Literacy rate' ,\n",
    "           'Year' ,\n",
    "           'Country']"
   ]
  },
  {
   "cell_type": "code",
   "execution_count": 7,
   "metadata": {},
   "outputs": [],
   "source": [
    "def collect_data(countryCode, per_page, start_year, end_year):\n",
    "    #TODO\n",
    "    df = pd.DataFrame() #init main datafarme\n",
    "    \n",
    "    for i  in range(len(INDICATORS)): # Indicators loop\n",
    "        # Read url as json format with start and end year\n",
    "        url = f\"{BASE_URL}countries/{countryCode}/indicators/{INDICATORS[i]}?format=json&date={start_year}:{end_year}&per_page={per_page}\"\n",
    "        response = requests.get(url)\n",
    "        data = response.json()\n",
    "        \n",
    "        # Get the needed data \n",
    "        data_entries = data[1]\n",
    "        dp = [] # list to get all data for each country\n",
    "        \n",
    "        if i == (len(INDICATORS)-1): # last indicator to get country and year\n",
    "            for entry in data_entries:   \n",
    "                try: \n",
    "                    value = float(entry['value']) \n",
    "                except:\n",
    "                    value = 'None'\n",
    "                    \n",
    "                year = entry['date']\n",
    "                ctry = entry['countryiso3code']\n",
    "                dp.append({COLUMNS[i]: value, COLUMNS[i+1]: year, COLUMNS[i+2]: ctry})\n",
    "                \n",
    "        else: #before last indicator\n",
    "            for entry in data_entries:\n",
    "                try: \n",
    "                    value = float(entry['value'])\n",
    "                except:\n",
    "                    value = 'None'\n",
    "                dp.append({COLUMNS[i]: value})\n",
    "                \n",
    "        dp = pd.DataFrame(dp) # change list type to dataframe type\n",
    "        df = pd.concat([df, dp], axis = 1) # add to the right of main dataframe (add column mean axis = 1)\n",
    "        \n",
    "    return df\n",
    "#raise NotImplementedError(\"not implement\")"
   ]
  },
  {
   "cell_type": "code",
   "execution_count": 8,
   "metadata": {},
   "outputs": [],
   "source": [
    "def Generate_Countries_Dataset(countryCode_list):\n",
    "    data = pd.DataFrame()\n",
    "    for countryCode in countryCode_list:\n",
    "        data = pd.concat([data, collect_data(countryCode = countryCode, per_page = 100, start_year = 2000, end_year = 2022)], axis=0)\n",
    "    return data"
   ]
  },
  {
   "cell_type": "code",
   "execution_count": 9,
   "metadata": {},
   "outputs": [],
   "source": [
    "#TEST\n",
    "data_countries = Generate_Countries_Dataset(COUNTRIES)\n",
    "assert data_countries.shape == (161, 13)"
   ]
  },
  {
   "cell_type": "code",
   "execution_count": 10,
   "metadata": {},
   "outputs": [],
   "source": [
    "# Save to csv file with name coutries.csv\n",
    "#TODO\n",
    "data_countries.to_csv('countries.csv', index = False)\n",
    "#raise NotImplementedError(\"not implement\")"
   ]
  }
 ],
 "metadata": {
  "kernelspec": {
   "display_name": "Python 3 (ipykernel)",
   "language": "python",
   "name": "python3"
  },
  "language_info": {
   "codemirror_mode": {
    "name": "ipython",
    "version": 3
   },
   "file_extension": ".py",
   "mimetype": "text/x-python",
   "name": "python",
   "nbconvert_exporter": "python",
   "pygments_lexer": "ipython3",
   "version": "3.11.7"
  }
 },
 "nbformat": 4,
 "nbformat_minor": 2
}
